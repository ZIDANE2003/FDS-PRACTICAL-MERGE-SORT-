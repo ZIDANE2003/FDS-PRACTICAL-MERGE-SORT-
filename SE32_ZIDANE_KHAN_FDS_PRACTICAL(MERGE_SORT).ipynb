{
  "nbformat": 4,
  "nbformat_minor": 0,
  "metadata": {
    "colab": {
      "name": "SE32 ZIDANE KHAN FDS PRACTICAL(MERGE SORT)",
      "provenance": [],
      "collapsed_sections": [],
      "toc_visible": true,
      "include_colab_link": true
    },
    "kernelspec": {
      "display_name": "Python 3",
      "name": "python3"
    }
  },
  "cells": [
    {
      "cell_type": "markdown",
      "metadata": {
        "id": "view-in-github",
        "colab_type": "text"
      },
      "source": [
        "<a href=\"https://colab.research.google.com/github/ZIDANE2003/FDS-PRACTICAL-MERGE-SORT-/blob/main/SE32_ZIDANE_KHAN_FDS_PRACTICAL(MERGE_SORT).ipynb\" target=\"_parent\"><img src=\"https://colab.research.google.com/assets/colab-badge.svg\" alt=\"Open In Colab\"/></a>"
      ]
    },
    {
      "cell_type": "code",
      "metadata": {
        "id": "JBRA3a50wPwR",
        "colab": {
          "base_uri": "https://localhost:8080/"
        },
        "outputId": "72b89d07-61e4-4fef-c1af-3dabc9898c7e"
      },
      "source": [
        "stud=[]\n",
        "n=int(input(\"Enter no of students in class:\")) \n",
        "for i in range(n):\n",
        "  num=float(input(\"Enter percentage of students:\"))\n",
        "  stud.append(num)\n",
        "print(\"List of percentage of Students:\",stud,end=\" \")\n",
        "def mergesort(stud):\n",
        "  if len(stud)>1:\n",
        "    mid=len(stud)//2\n",
        "    left=stud[:mid]\n",
        "    right=stud[mid:]\n",
        "    mergesort(left)\n",
        "    mergesort(right)\n",
        "    i=0\n",
        "    j=0\n",
        "    k=0\n",
        "    while i<len(left) and j<len(right):\n",
        "      if left[i]<right[j]:\n",
        "        stud[k]=left[i]\n",
        "        i=i+1\n",
        "        k=k+1\n",
        "      else:\n",
        "        stud[k]=right[j]\n",
        "        j=j+1\n",
        "        k=k+1\n",
        "    while i<len(left):\n",
        "      stud[k]=left[i]\n",
        "      i=i+1\n",
        "      k=k+1 \n",
        "    while j<len(right):\n",
        "      stud[k]=right[j]\n",
        "      j=j+1\n",
        "      k=k+1       \n",
        "mergesort(stud) \n",
        "print(\"\\n TOP FIVE SCORES ARE\") \n",
        "print(stud)    "
      ],
      "execution_count": 1,
      "outputs": [
        {
          "output_type": "stream",
          "name": "stdout",
          "text": [
            "Enter no of students in class:5\n",
            "Enter percentage of students:67.6\n",
            "Enter percentage of students:84.3\n",
            "Enter percentage of students:84\n",
            "Enter percentage of students:77.5\n",
            "Enter percentage of students:90\n",
            "List of percentage of Students: [67.6, 84.3, 84.0, 77.5, 90.0] \n",
            " TOP FIVE SCORES ARE\n",
            "[67.6, 77.5, 84.0, 84.3, 90.0]\n"
          ]
        }
      ]
    }
  ]
}